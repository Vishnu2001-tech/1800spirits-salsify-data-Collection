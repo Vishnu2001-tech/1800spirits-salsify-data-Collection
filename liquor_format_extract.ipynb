{
 "cells": [
  {
   "cell_type": "code",
   "execution_count": 14,
   "metadata": {},
   "outputs": [
    {
     "name": "stdout",
     "output_type": "stream",
     "text": [
      "Data extraction complete. CSV file created at 'D:\\1800spirits-salsify-data-load\\Output_files\\liquorfiles-08-july.csv'.\n"
     ]
    }
   ],
   "source": [
    "import pandas as pd\n",
    "import json\n",
    "import os\n",
    "\n",
    "def safe_get(data_list, default=''):\n",
    "    \"\"\"Utility function to safely get the first element of a list or return a default value if the list is empty.\"\"\"\n",
    "    return data_list[0] if data_list else default\n",
    "\n",
    "def get_label(data_list, default=''):\n",
    "    \"\"\"Utility function to get the label from the first element of a list or return a default value if the list is empty or label is missing.\"\"\"\n",
    "    return data_list[0].get('label', default) if data_list and 'label' in data_list[0] else default\n",
    "\n",
    "# Set the directory containing the JSON files\n",
    "directory_path = os.getenv('JSON_DIRECTORY_PATH', r'D:\\1800spirits-salsify-data-load\\input_folders\\liquorfiles')\n",
    "\n",
    "# Set the output directory\n",
    "output_directory = r'D:\\1800spirits-salsify-data-load\\Output_files'\n",
    "os.makedirs(output_directory, exist_ok=True)\n",
    "\n",
    "# Initialize an empty list to collect rows\n",
    "rows = []\n",
    "\n",
    "# Iterate over all JSON files in the directory\n",
    "for filename in os.listdir(directory_path):\n",
    "    if filename.endswith('.json'):\n",
    "        file_path = os.path.join(directory_path, filename)\n",
    "        \n",
    "        # Load each JSON file with utf-8 encoding\n",
    "        with open(file_path, 'r', encoding='utf-8') as file:\n",
    "            data = json.load(file)['data']\n",
    "        \n",
    "        # Extract data for each item in the JSON file\n",
    "        for item in data:\n",
    "            row = {\n",
    "                'GTIN': item.get('gtin', ''),\n",
    "                'Manufacturer Name': item.get('manufacturerNameText', ''),\n",
    "                'Brand': item.get('brandText', ''),\n",
    "                'Volume': safe_get(item.get('netContent', [{}]), {}).get('data', ''),\n",
    "                'Volume Code': safe_get(item.get('netContent', [{}]), {}).get('expressedIn', {}).get('code', ''),\n",
    "                'namePublicLong': safe_get(item.get('namePublicLong', [{}]), {}).get('data', ''),\n",
    "                'namePublicShort': safe_get(item.get('namePublicShort', [{}]), {}).get('data', ''),\n",
    "                'functionalName': safe_get(item.get('functionalName', [{}]), {}).get('data', ''),\n",
    "                'typePackaging': item.get('typePackaging', {}).get('code', ''),\n",
    "                'useableUnits': item.get('useableUnits', ''),\n",
    "                'ratioAlcohol': item.get('ratioAlcohol', ''),\n",
    "                'packagingInformationList': get_label(item.get('packagingInformationList', [{}]), ''),\n",
    "                'countryOfOriginList': get_label(item.get('countryOfOriginList', [{}]), 'USA'),\n",
    "                'kind': item.get('kind', {}).get('label', '')\n",
    "            }\n",
    "            rows.append(row)\n",
    "\n",
    "# Create a DataFrame from the list of rows\n",
    "df = pd.DataFrame(rows, columns=[\n",
    "    'GTIN',\n",
    "    'Manufacturer Name',\n",
    "    'Brand',\n",
    "    'Volume',\n",
    "    'Volume Code',\n",
    "    'namePublicLong',\n",
    "    'namePublicShort',\n",
    "    'functionalName',\n",
    "    'typePackaging',\n",
    "    'useableUnits',\n",
    "    'ratioAlcohol',\n",
    "    'packagingInformationList',\n",
    "    'countryOfOriginList',\n",
    "    'kind'\n",
    "])\n",
    "\n",
    "# Save the DataFrame to a CSV file\n",
    "output_csv_path = os.path.join(output_directory, 'liquorfiles-08-july.csv')\n",
    "df.to_csv(output_csv_path, index=False)\n",
    "\n",
    "print(f\"Data extraction complete. CSV file created at '{output_csv_path}'.\")\n"
   ]
  }
 ],
 "metadata": {
  "kernelspec": {
   "display_name": "Python 3",
   "language": "python",
   "name": "python3"
  },
  "language_info": {
   "codemirror_mode": {
    "name": "ipython",
    "version": 3
   },
   "file_extension": ".py",
   "mimetype": "text/x-python",
   "name": "python",
   "nbconvert_exporter": "python",
   "pygments_lexer": "ipython3",
   "version": "3.8.10"
  }
 },
 "nbformat": 4,
 "nbformat_minor": 2
}
